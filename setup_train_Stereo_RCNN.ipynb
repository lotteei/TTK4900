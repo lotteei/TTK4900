{
  "cells": [
    {
      "cell_type": "code",
      "execution_count": null,
      "metadata": {
        "id": "A_iS37I3Xta4"
      },
      "outputs": [],
      "source": [
        "# mount google drive\n",
        "from google.colab import drive\n",
        "drive.mount('/content/gdrive')\n",
        "# refresh page to see files"
      ]
    },
    {
      "cell_type": "code",
      "execution_count": null,
      "metadata": {
        "id": "zY_E-nYBX-1a"
      },
      "outputs": [],
      "source": [
        "# install anaconda in colab\n",
        "!pip install -q condacolab\n",
        "import condacolab\n",
        "condacolab.install()\n",
        "\n",
        "!conda --version\n",
        "!which conda"
      ]
    },
    {
      "cell_type": "code",
      "execution_count": null,
      "metadata": {
        "id": "NSKZHHuWYBCx"
      },
      "outputs": [],
      "source": [
        "!conda install pytorch=1.0.0 cuda90 -c pytorch\n",
        "!conda install torchvision -c pytorch"
      ]
    },
    {
      "cell_type": "code",
      "execution_count": null,
      "metadata": {
        "id": "DJjKCTIlYDYZ"
      },
      "outputs": [],
      "source": [
        "!pip install -r /content/gdrive/MyDrive/Stereo_RCNN/requirements.txt"
      ]
    },
    {
      "cell_type": "code",
      "execution_count": null,
      "metadata": {
        "id": "iIN2IswyYF38"
      },
      "outputs": [],
      "source": [
        "# mkl to avoid error in setup.py (cblas)\n",
        "#!conda install -c anaconda mkl\n",
        "!conda install mkl=2018 -c intel"
      ]
    },
    {
      "cell_type": "code",
      "execution_count": null,
      "metadata": {
        "id": "x6Ssbj8zYH61"
      },
      "outputs": [],
      "source": [
        "!python /content/gdrive/MyDrive/Stereo_RCNN/lib/setup.py build develop"
      ]
    },
    {
      "cell_type": "code",
      "execution_count": null,
      "metadata": {
        "id": "V9Znv1w-OylL"
      },
      "outputs": [],
      "source": [
        "!conda install -c conda-forge imgaug\n",
        "!conda install -c conda-forge/label/cf202003 imgaug\n"
      ]
    },
    {
      "cell_type": "code",
      "execution_count": null,
      "metadata": {
        "id": "wfHIrcA5YJ7K"
      },
      "outputs": [],
      "source": [
        "CUDA_VISIBLE_DEVICES=0 \n",
        "\n",
        "!python /content/gdrive/MyDrive/Stereo_RCNN/trainval_net_new.py --bs 1"
      ]
    }
  ],
  "metadata": {
    "accelerator": "GPU",
    "colab": {
      "collapsed_sections": [],
      "machine_shape": "hm",
      "name": "setup_train_Stereo_RCNN.ipynb",
      "provenance": []
    },
    "kernelspec": {
      "display_name": "Python 3",
      "name": "python3"
    },
    "language_info": {
      "name": "python"
    }
  },
  "nbformat": 4,
  "nbformat_minor": 0
}