{
 "cells": [
  {
   "cell_type": "markdown",
   "metadata": {},
   "source": [
    "# Regression with H2O autoML"
   ]
  },
  {
   "cell_type": "code",
   "execution_count": null,
   "metadata": {},
   "outputs": [],
   "source": [
    "from sklearn.metrics import accuracy_score, mean_squared_error, confusion_matrix, plot_confusion_matrix, ConfusionMatrixDisplay, explained_variance_score, r2_score, mean_absolute_error\n",
    "from h2o.automl import H2OAutoML\n",
    "import matplotlib.pyplot as plt\n",
    "import seaborn as sns\n",
    "import pandas as pd\n",
    "import numpy as np\n",
    "import pickle\n",
    "import h2o\n",
    "\n",
    "file_path = 'data/'\n",
    "save_path = 'models/regression/'\n",
    "model_name = 'automl_h2o_regressor' "
   ]
  },
  {
   "cell_type": "code",
   "execution_count": null,
   "metadata": {},
   "outputs": [],
   "source": [
    "h2o.init()"
   ]
  },
  {
   "cell_type": "code",
   "execution_count": null,
   "metadata": {},
   "outputs": [],
   "source": [
    "def get_x_y_data(df):\n",
    "\n",
    "    X_data = []\n",
    "    y_data = []\n",
    "    for index, row in df.iterrows():        \n",
    "\n",
    "        res = row['n_v'].strip('][ ').split()\n",
    "        n_list = [float(s) for s in res]\n",
    "        res = row['bins_v'].strip('][ ').split()\n",
    "        bins_list = [float(s) for s in res]\n",
    "        \n",
    "        res = row['n_xv'].strip('][ ').split()\n",
    "        n_xv_list = [float(s) for s in res]\n",
    "        res = row['bins_xv'].strip('][ ').split()\n",
    "        bins_xv_list = [float(s) for s in res]   \n",
    "        \n",
    "        res = row['n_yv'].strip('][ ').split()\n",
    "        n_yv_list = [float(s) for s in res]\n",
    "        res = row['bins_yv'].strip('][ ').split()\n",
    "        bins_yv_list = [float(s) for s in res]\n",
    "        \n",
    "        res = row['n_zv'].strip('][ ').split()\n",
    "        n_zv_list = [float(s) for s in res]\n",
    "        res = row['bins_zv'].strip('][ ').split()\n",
    "        bins_zv_list = [float(s) for s in res]\n",
    "        \n",
    "        res = row['n_a_v'].strip('][ ').split()\n",
    "        n_a_list = [float(s) for s in res]\n",
    "        res = row['bins_a_v'].strip('][ ').split()\n",
    "        bins_a_list = [float(s) for s in res]\n",
    "\n",
    "        data_point=[a for a in zip(n_list, bins_list,  n_xv_list, bins_xv_list, n_yv_list, bins_yv_list, n_zv_list,\n",
    "                                   bins_zv_list,  n_a_list, bins_a_list)]\n",
    "        X_data.append(data_point)\n",
    "        y_data.append((row['h2s']))\n",
    "        \n",
    "        \n",
    "    X = np.array(X_data)\n",
    "    y = np.array(y_data)\n",
    "\n",
    "\n",
    "    nsamples, nx, ny = X.shape\n",
    "    X = X.reshape(nsamples, nx*ny)\n",
    "    return X, y"
   ]
  },
  {
   "cell_type": "markdown",
   "metadata": {},
   "source": [
    "# Get training and test dataset"
   ]
  },
  {
   "cell_type": "code",
   "execution_count": null,
   "metadata": {},
   "outputs": [],
   "source": [
    "train_df = pd.read_csv(file_path + 'behaviour_data.csv')\n",
    "test_df = pd.read_csv(file_path + 'test_behaviour_data.csv')"
   ]
  },
  {
   "cell_type": "code",
   "execution_count": null,
   "metadata": {},
   "outputs": [],
   "source": [
    "# Training set\n",
    "X_train, y_train = get_x_y_data(train_df)\n",
    "\n",
    "X_train = X_train.tolist()\n",
    "y_train = y_train.tolist()\n",
    "\n",
    "X_train = h2o.H2OFrame(X_train)\n",
    "y_train = h2o.H2OFrame(y_train, column_names=['h2s'])\n",
    "\n",
    "train_data = X_train.cbind(y_train)\n"
   ]
  },
  {
   "cell_type": "code",
   "execution_count": null,
   "metadata": {},
   "outputs": [],
   "source": [
    "# Test set\n",
    "X_test, y_test = get_x_y_data(test_df)\n",
    "\n",
    "X_test = X_test.tolist()\n",
    "y_test = y_test.tolist()\n",
    "\n",
    "X_test_model = h2o.H2OFrame(X_test)\n",
    "y_test_model = h2o.H2OFrame(y_test, column_names=['h2s'])"
   ]
  },
  {
   "cell_type": "markdown",
   "metadata": {},
   "source": [
    "# Train H2O autoML models"
   ]
  },
  {
   "cell_type": "code",
   "execution_count": null,
   "metadata": {},
   "outputs": [],
   "source": [
    "aml = H2OAutoML(max_models=20, seed=1)\n",
    "aml.train(y='h2s', training_frame=train_data)"
   ]
  },
  {
   "cell_type": "code",
   "execution_count": null,
   "metadata": {},
   "outputs": [],
   "source": [
    "aml.leader"
   ]
  },
  {
   "cell_type": "markdown",
   "metadata": {},
   "source": [
    "# Test model"
   ]
  },
  {
   "cell_type": "code",
   "execution_count": null,
   "metadata": {},
   "outputs": [],
   "source": [
    "preds = aml.predict(y_test_model)\n",
    "predictions = h2o.as_list(preds)\n",
    "y_test =  h2o.as_list(y_test_model)\n",
    "\n",
    "r2_score = r2_score(y_test, predictions)\n",
    "MAE = mean_absolute_error(y_test, predictions)\n",
    "RSME = mean_squared_error(y_test, predictions, squared=False)\n",
    "\n",
    "print(\"R2 Score          : \", r2_score)\n",
    "print(\"Mean_abs_error    : \", MAE)\n",
    "print(\"RMSE              : \", RSME)\n",
    "\n",
    "print(y_test, predictions)"
   ]
  },
  {
   "cell_type": "markdown",
   "metadata": {},
   "source": [
    "# Regression plot"
   ]
  },
  {
   "cell_type": "code",
   "execution_count": null,
   "metadata": {},
   "outputs": [],
   "source": [
    "fig = plt.figure(figsize= (9,9))\n",
    "sns.regplot(x=y_test, y=predictions)\n",
    "\n",
    "plt.xlabel('True $H_2S$ ($\\mu g/L$)', fontsize=18)\n",
    "plt.ylabel('Predicted $H_2S$ ($\\mu g/L$)', fontsize=18) \n",
    "plt.title('H2OAutoML Regression' + '\\n$(R²='+str(round(r2_score,3))+')$', fontweight='bold', fontsize=22) \n",
    "plt.xticks(fontsize=12)\n",
    "plt.yticks(fontsize=12)\n",
    "plt.grid()\n",
    "plt.show()"
   ]
  },
  {
   "cell_type": "markdown",
   "metadata": {},
   "source": [
    "# Saving model"
   ]
  },
  {
   "cell_type": "code",
   "execution_count": null,
   "metadata": {},
   "outputs": [],
   "source": [
    "# Saving model\n",
    "h2o.save_model(model= aml.leader, path= save_path + model_name)"
   ]
  },
  {
   "cell_type": "markdown",
   "metadata": {},
   "source": [
    "# Load model"
   ]
  },
  {
   "cell_type": "code",
   "execution_count": null,
   "metadata": {},
   "outputs": [],
   "source": [
    "# Load model\n",
    "#path = \n",
    "loaded_model= h2o.load_model(path)\n",
    "\n",
    "loaded_model.show()"
   ]
  }
 ],
 "metadata": {
  "kernelspec": {
   "display_name": "Python 3 (ipykernel)",
   "language": "python",
   "name": "python3"
  },
  "language_info": {
   "codemirror_mode": {
    "name": "ipython",
    "version": 3
   },
   "file_extension": ".py",
   "mimetype": "text/x-python",
   "name": "python",
   "nbconvert_exporter": "python",
   "pygments_lexer": "ipython3",
   "version": "3.9.13"
  },
  "vscode": {
   "interpreter": {
    "hash": "40c0f35be6e66125e316003e0360a361a3624671e4defdd395d53c905a2a28f7"
   }
  }
 },
 "nbformat": 4,
 "nbformat_minor": 2
}
