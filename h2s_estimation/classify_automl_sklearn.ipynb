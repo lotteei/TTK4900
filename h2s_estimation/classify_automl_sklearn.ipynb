{
 "cells": [
  {
   "cell_type": "code",
   "execution_count": null,
   "metadata": {},
   "outputs": [],
   "source": [
    "from sklearn.metrics import confusion_matrix, ConfusionMatrixDisplay, accuracy_score\n",
    "import autosklearn.classification\n",
    "from sklearn import preprocessing\n",
    "import matplotlib.pyplot as plt\n",
    "import seaborn as sns\n",
    "import pandas as pd\n",
    "import numpy as np\n",
    "import pickle\n",
    "\n",
    "\n",
    "file_path = 'data/'\n",
    "save_path = 'models/classification/'\n",
    "model_name = 'automl__sklearn_classifier.sav'\n",
    "\n",
    "lab = preprocessing.LabelEncoder()"
   ]
  },
  {
   "cell_type": "code",
   "execution_count": null,
   "metadata": {},
   "outputs": [],
   "source": [
    "def get_x_y_data(df):\n",
    "\n",
    "    X_data = []\n",
    "    y_data = []\n",
    "\n",
    "    for _, row in df.iterrows():\n",
    "        res = row['n_v'].strip('][ ').split()\n",
    "        n_list = [float(s) for s in res]\n",
    "        res = row['bins_v'].strip('][ ').split()\n",
    "        bins_list = [float(s) for s in res]\n",
    "        res = row['n_xv'].strip('][ ').split()\n",
    "        n_xv_list = [float(s) for s in res]\n",
    "        res = row['bins_xv'].strip('][ ').split()\n",
    "        bins_xv_list = [float(s) for s in res]\n",
    "        \n",
    "        res = row['n_yv'].strip('][ ').split()\n",
    "        n_yv_list = [float(s) for s in res]\n",
    "        res = row['bins_yv'].strip('][ ').split()\n",
    "        bins_yv_list = [float(s) for s in res]\n",
    "        \n",
    "        res = row['n_zv'].strip('][ ').split()\n",
    "        n_zv_list = [float(s) for s in res]\n",
    "        res = row['bins_zv'].strip('][ ').split()\n",
    "        bins_zv_list = [float(s) for s in res]\n",
    "        \n",
    "        res = row['n_a_v'].strip('][ ').split()\n",
    "        n_a_list = [float(s) for s in res]\n",
    "        res = row['bins_a_v'].strip('][ ').split()\n",
    "        bins_a_list = [float(s) for s in res]\n",
    "\n",
    "        \n",
    "        data_point=[a for a in zip(n_list, bins_list,  n_xv_list, bins_xv_list, n_yv_list, bins_yv_list, n_zv_list,\n",
    "                                   bins_zv_list, n_a_list, bins_a_list)]\n",
    "        X_data.append(data_point)\n",
    "        y_data.append(row['h2s'])\n",
    "\n",
    "    X = np.array(X_data)\n",
    "    y = np.array(y_data)\n",
    "    y_transformed = lab.fit_transform(y)\n",
    "\n",
    "    nsamples, nx, ny = X.shape\n",
    "    X = X.reshape(nsamples, nx*ny)\n",
    "\n",
    "    return X, y_transformed"
   ]
  },
  {
   "cell_type": "code",
   "execution_count": null,
   "metadata": {},
   "outputs": [],
   "source": [
    "train_df = pd.read_csv(file_path + 'behaviour_data.csv')\n",
    "test_df = pd.read_csv(file_path + 'test_behaviour_data.csv')\n",
    "\n",
    "X_train, y_train = get_x_y_data(train_df)\n",
    "X_test, y_test = get_x_y_data(test_df)"
   ]
  },
  {
   "cell_type": "markdown",
   "metadata": {},
   "source": [
    "# Load sklearn autoML and train model"
   ]
  },
  {
   "cell_type": "code",
   "execution_count": null,
   "metadata": {},
   "outputs": [],
   "source": [
    "cls = autosklearn.classification.AutoSklearnClassifier()#time_left_for_this_task=60*5)\n",
    "cls.fit(X_train, y_train)"
   ]
  },
  {
   "cell_type": "code",
   "execution_count": null,
   "metadata": {},
   "outputs": [],
   "source": [
    "# Printing statistics\n",
    "print(cls.sprint_statistics())\n",
    "print(cls.leaderboard())"
   ]
  },
  {
   "cell_type": "code",
   "execution_count": null,
   "metadata": {},
   "outputs": [],
   "source": [
    "predictions = cls.predict(X_test)\n",
    "acc = accuracy_score(y_test, predictions)\n",
    "print('Accuracy: %.3f' % acc)\n",
    "\n",
    "\n",
    "# get the best model and its weight\n",
    "models = cls.get_models_with_weights()\n",
    "best_model, best_weight  = models[0]\n",
    "\n",
    "# get information about the best model\n",
    "print(best_model)\n",
    "print(best_weight)"
   ]
  },
  {
   "cell_type": "code",
   "execution_count": null,
   "metadata": {},
   "outputs": [],
   "source": [
    "print('Pred: ', predictions)\n",
    "print('Test: ', y_test)"
   ]
  },
  {
   "cell_type": "code",
   "execution_count": null,
   "metadata": {},
   "outputs": [],
   "source": [
    "# get the best model and its weight\n",
    "models = cls.get_models_with_weights()\n",
    "best_model, best_weight  = models[0]\n",
    "\n",
    "# get information about the best model\n",
    "print(best_model)\n",
    "print(best_weight)\n"
   ]
  },
  {
   "cell_type": "markdown",
   "metadata": {},
   "source": [
    "## Confusion matrix\n"
   ]
  },
  {
   "cell_type": "code",
   "execution_count": null,
   "metadata": {},
   "outputs": [],
   "source": [
    "test = set(y_test)\n",
    "test = sorted(test)\n",
    "\n",
    "labels = lab.inverse_transform(test)\n",
    "print(labels)\n",
    "confusion = confusion_matrix(y_test, predictions, normalize='all')\n",
    "\n",
    "fig = plt.figure(figsize=(15,10))\n",
    "ax= plt.subplot()\n",
    "sns.set(font_scale=1.5) \n",
    "sns.heatmap(confusion, annot=True, fmt='.1%', cmap='Blues')\n",
    "ax.set_xlabel('Predicted labels', fontsize=18)\n",
    "ax.set_ylabel('True labels', fontsize=18)\n",
    "ax.set_title('Confusion matrix for Random forest with Auto-Sklearn', fontweight='bold', fontsize=22); \n",
    "print(labels)\n",
    "ax.xaxis.set_ticklabels(labels, fontsize=12)\n",
    "ax.yaxis.set_ticklabels(labels, fontsize=12)\n",
    "plt.show()"
   ]
  },
  {
   "cell_type": "markdown",
   "metadata": {},
   "source": [
    "## Saving top model"
   ]
  },
  {
   "cell_type": "code",
   "execution_count": null,
   "metadata": {},
   "outputs": [],
   "source": [
    "pickle.dump(cls, open(save_path + model_name, 'wb'))"
   ]
  },
  {
   "cell_type": "markdown",
   "metadata": {},
   "source": [
    "# Load model\n",
    "\n"
   ]
  },
  {
   "cell_type": "code",
   "execution_count": null,
   "metadata": {},
   "outputs": [],
   "source": [
    "loaded_model = pickle.load(open(save_path + model_name, 'rb'))\n",
    "result = loaded_model.score(X_test, y_test)\n",
    "print('Accuracy', result)"
   ]
  }
 ],
 "metadata": {
  "kernelspec": {
   "display_name": "Python 3 (ipykernel)",
   "language": "python",
   "name": "python3"
  },
  "language_info": {
   "codemirror_mode": {
    "name": "ipython",
    "version": 3
   },
   "file_extension": ".py",
   "mimetype": "text/x-python",
   "name": "python",
   "nbconvert_exporter": "python",
   "pygments_lexer": "ipython3",
   "version": "3.9.13"
  },
  "vscode": {
   "interpreter": {
    "hash": "40c0f35be6e66125e316003e0360a361a3624671e4defdd395d53c905a2a28f7"
   }
  }
 },
 "nbformat": 4,
 "nbformat_minor": 2
}
