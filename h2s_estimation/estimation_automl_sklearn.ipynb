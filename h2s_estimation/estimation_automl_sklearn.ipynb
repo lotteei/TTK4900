{
 "cells": [
  {
   "cell_type": "markdown",
   "metadata": {},
   "source": [
    "# Regression"
   ]
  },
  {
   "cell_type": "code",
   "execution_count": null,
   "metadata": {},
   "outputs": [],
   "source": [
    "from sklearn.metrics import accuracy_score, mean_squared_error, confusion_matrix, plot_confusion_matrix, ConfusionMatrixDisplay, explained_variance_score, r2_score, mean_absolute_error\n",
    "import matplotlib.pyplot as plt\n",
    "import autosklearn.regression\n",
    "import seaborn as sns\n",
    "import pandas as pd\n",
    "import numpy as np\n",
    "import pickle\n",
    "\n",
    "file_path = 'data/'\n",
    "save_path = 'models/regression/'\n",
    "model_name = 'automl_sklearn_regressor' "
   ]
  },
  {
   "cell_type": "code",
   "execution_count": 3,
   "metadata": {},
   "outputs": [],
   "source": [
    "def get_x_y_data(df):\n",
    "\n",
    "\n",
    "    X_data = []\n",
    "    y_data = []\n",
    "\n",
    "    for index, row in df.iterrows():\n",
    "       \n",
    "        res = row['n_v'].strip('][ ').split()\n",
    "        n_list = [float(s) for s in res]\n",
    "        res = row['bins_v'].strip('][ ').split()\n",
    "        bins_list = [float(s) for s in res]\n",
    "        \n",
    "        res = row['n_xv'].strip('][ ').split()\n",
    "        n_xv_list = [float(s) for s in res]\n",
    "        res = row['bins_xv'].strip('][ ').split()\n",
    "        bins_xv_list = [float(s) for s in res]\n",
    "        \n",
    "        res = row['n_yv'].strip('][ ').split()\n",
    "        n_yv_list = [float(s) for s in res]\n",
    "        res = row['bins_yv'].strip('][ ').split()\n",
    "        bins_yv_list = [float(s) for s in res]\n",
    "        \n",
    "        res = row['n_zv'].strip('][ ').split()\n",
    "        n_zv_list = [float(s) for s in res]\n",
    "        res = row['bins_zv'].strip('][ ').split()\n",
    "        bins_zv_list = [float(s) for s in res]\n",
    "        \n",
    "        res = row['n_a_v'].strip('][ ').split()\n",
    "        n_a_list = [float(s) for s in res]\n",
    "        res = row['bins_a_v'].strip('][ ').split()\n",
    "        bins_a_list = [float(s) for s in res]\n",
    "        \n",
    "        data_point=[a for a in zip(n_list, bins_list,  n_xv_list, bins_xv_list, n_yv_list, bins_yv_list, n_zv_list,\n",
    "                                   bins_zv_list,  n_a_list, bins_a_list)]\n",
    "        X_data.append(data_point)\n",
    "        y_data.append((row['h2s']))\n",
    "        \n",
    "    X = np.array(X_data)\n",
    "    y = np.array(y_data)\n",
    "\n",
    "    nsamples, nx, ny = X.shape\n",
    "    X = X.reshape(nsamples, nx*ny)\n",
    "    \n",
    "\n",
    "    return X, y"
   ]
  },
  {
   "cell_type": "code",
   "execution_count": 5,
   "metadata": {},
   "outputs": [
    {
     "name": "stdout",
     "output_type": "stream",
     "text": [
      "x.shape:  (220, 50, 10)\n"
     ]
    }
   ],
   "source": [
    "# Training dataset\n",
    "train_df = pd.read_csv(file_path + 'behaviour_data.csv')\n",
    "X_train, y_train = get_x_y_data(train_df)"
   ]
  },
  {
   "cell_type": "markdown",
   "metadata": {},
   "source": [
    "# Train model"
   ]
  },
  {
   "cell_type": "code",
   "execution_count": 7,
   "metadata": {},
   "outputs": [],
   "source": [
    "cls = autosklearn.regression.AutoSklearnRegressor()#time_left_for_this_task=60*5)"
   ]
  },
  {
   "cell_type": "code",
   "execution_count": 8,
   "metadata": {},
   "outputs": [
    {
     "name": "stderr",
     "output_type": "stream",
     "text": [
      "/home/lotte/anaconda3/lib/python3.9/site-packages/sklearn/metrics/_regression.py:691: RuntimeWarning: overflow encountered in square\n",
      "  numerator = (weight * (y_true - y_pred) ** 2).sum(axis=0,\n",
      "/home/lotte/anaconda3/lib/python3.9/site-packages/sklearn/metrics/_regression.py:691: RuntimeWarning: overflow encountered in square\n",
      "  numerator = (weight * (y_true - y_pred) ** 2).sum(axis=0,\n",
      "/home/lotte/anaconda3/lib/python3.9/site-packages/sklearn/metrics/_regression.py:691: RuntimeWarning: overflow encountered in square\n",
      "  numerator = (weight * (y_true - y_pred) ** 2).sum(axis=0,\n",
      "/home/lotte/anaconda3/lib/python3.9/site-packages/sklearn/metrics/_regression.py:691: RuntimeWarning: overflow encountered in square\n",
      "  numerator = (weight * (y_true - y_pred) ** 2).sum(axis=0,\n",
      "/home/lotte/anaconda3/lib/python3.9/site-packages/sklearn/metrics/_regression.py:691: RuntimeWarning: overflow encountered in square\n",
      "  numerator = (weight * (y_true - y_pred) ** 2).sum(axis=0,\n",
      "/home/lotte/anaconda3/lib/python3.9/site-packages/sklearn/metrics/_regression.py:691: RuntimeWarning: overflow encountered in square\n",
      "  numerator = (weight * (y_true - y_pred) ** 2).sum(axis=0,\n",
      "/home/lotte/anaconda3/lib/python3.9/site-packages/sklearn/metrics/_regression.py:691: RuntimeWarning: overflow encountered in square\n",
      "  numerator = (weight * (y_true - y_pred) ** 2).sum(axis=0,\n",
      "/home/lotte/anaconda3/lib/python3.9/site-packages/sklearn/metrics/_regression.py:691: RuntimeWarning: overflow encountered in square\n",
      "  numerator = (weight * (y_true - y_pred) ** 2).sum(axis=0,\n",
      "/home/lotte/anaconda3/lib/python3.9/site-packages/sklearn/metrics/_regression.py:691: RuntimeWarning: overflow encountered in square\n",
      "  numerator = (weight * (y_true - y_pred) ** 2).sum(axis=0,\n",
      "/home/lotte/anaconda3/lib/python3.9/site-packages/sklearn/metrics/_regression.py:691: RuntimeWarning: overflow encountered in square\n",
      "  numerator = (weight * (y_true - y_pred) ** 2).sum(axis=0,\n",
      "/home/lotte/anaconda3/lib/python3.9/site-packages/sklearn/metrics/_regression.py:691: RuntimeWarning: overflow encountered in square\n",
      "  numerator = (weight * (y_true - y_pred) ** 2).sum(axis=0,\n",
      "/home/lotte/anaconda3/lib/python3.9/site-packages/sklearn/metrics/_regression.py:691: RuntimeWarning: overflow encountered in square\n",
      "  numerator = (weight * (y_true - y_pred) ** 2).sum(axis=0,\n",
      "/home/lotte/anaconda3/lib/python3.9/site-packages/sklearn/metrics/_regression.py:691: RuntimeWarning: overflow encountered in square\n",
      "  numerator = (weight * (y_true - y_pred) ** 2).sum(axis=0,\n",
      "/home/lotte/anaconda3/lib/python3.9/site-packages/sklearn/metrics/_regression.py:691: RuntimeWarning: overflow encountered in square\n",
      "  numerator = (weight * (y_true - y_pred) ** 2).sum(axis=0,\n",
      "/home/lotte/anaconda3/lib/python3.9/site-packages/sklearn/metrics/_regression.py:691: RuntimeWarning: overflow encountered in square\n",
      "  numerator = (weight * (y_true - y_pred) ** 2).sum(axis=0,\n",
      "/home/lotte/anaconda3/lib/python3.9/site-packages/sklearn/metrics/_regression.py:691: RuntimeWarning: overflow encountered in square\n",
      "  numerator = (weight * (y_true - y_pred) ** 2).sum(axis=0,\n",
      "/home/lotte/anaconda3/lib/python3.9/site-packages/sklearn/metrics/_regression.py:691: RuntimeWarning: overflow encountered in square\n",
      "  numerator = (weight * (y_true - y_pred) ** 2).sum(axis=0,\n",
      "/home/lotte/anaconda3/lib/python3.9/site-packages/sklearn/metrics/_regression.py:691: RuntimeWarning: overflow encountered in square\n",
      "  numerator = (weight * (y_true - y_pred) ** 2).sum(axis=0,\n",
      "/home/lotte/anaconda3/lib/python3.9/site-packages/sklearn/metrics/_regression.py:691: RuntimeWarning: overflow encountered in square\n",
      "  numerator = (weight * (y_true - y_pred) ** 2).sum(axis=0,\n",
      "/home/lotte/anaconda3/lib/python3.9/site-packages/sklearn/metrics/_regression.py:691: RuntimeWarning: overflow encountered in square\n",
      "  numerator = (weight * (y_true - y_pred) ** 2).sum(axis=0,\n",
      "/home/lotte/anaconda3/lib/python3.9/site-packages/sklearn/metrics/_regression.py:691: RuntimeWarning: overflow encountered in square\n",
      "  numerator = (weight * (y_true - y_pred) ** 2).sum(axis=0,\n",
      "/home/lotte/anaconda3/lib/python3.9/site-packages/sklearn/metrics/_regression.py:691: RuntimeWarning: overflow encountered in square\n",
      "  numerator = (weight * (y_true - y_pred) ** 2).sum(axis=0,\n",
      "/home/lotte/anaconda3/lib/python3.9/site-packages/sklearn/metrics/_regression.py:691: RuntimeWarning: overflow encountered in square\n",
      "  numerator = (weight * (y_true - y_pred) ** 2).sum(axis=0,\n",
      "/home/lotte/anaconda3/lib/python3.9/site-packages/sklearn/metrics/_regression.py:691: RuntimeWarning: overflow encountered in square\n",
      "  numerator = (weight * (y_true - y_pred) ** 2).sum(axis=0,\n",
      "/home/lotte/anaconda3/lib/python3.9/site-packages/sklearn/metrics/_regression.py:691: RuntimeWarning: overflow encountered in square\n",
      "  numerator = (weight * (y_true - y_pred) ** 2).sum(axis=0,\n",
      "/home/lotte/anaconda3/lib/python3.9/site-packages/sklearn/metrics/_regression.py:691: RuntimeWarning: overflow encountered in square\n",
      "  numerator = (weight * (y_true - y_pred) ** 2).sum(axis=0,\n",
      "/home/lotte/anaconda3/lib/python3.9/site-packages/sklearn/metrics/_regression.py:691: RuntimeWarning: overflow encountered in square\n",
      "  numerator = (weight * (y_true - y_pred) ** 2).sum(axis=0,\n",
      "/home/lotte/anaconda3/lib/python3.9/site-packages/sklearn/metrics/_regression.py:691: RuntimeWarning: overflow encountered in square\n",
      "  numerator = (weight * (y_true - y_pred) ** 2).sum(axis=0,\n",
      "/home/lotte/anaconda3/lib/python3.9/site-packages/sklearn/metrics/_regression.py:691: RuntimeWarning: overflow encountered in square\n",
      "  numerator = (weight * (y_true - y_pred) ** 2).sum(axis=0,\n",
      "/home/lotte/anaconda3/lib/python3.9/site-packages/sklearn/metrics/_regression.py:691: RuntimeWarning: overflow encountered in square\n",
      "  numerator = (weight * (y_true - y_pred) ** 2).sum(axis=0,\n",
      "/home/lotte/anaconda3/lib/python3.9/site-packages/sklearn/metrics/_regression.py:691: RuntimeWarning: overflow encountered in square\n",
      "  numerator = (weight * (y_true - y_pred) ** 2).sum(axis=0,\n",
      "/home/lotte/anaconda3/lib/python3.9/site-packages/sklearn/metrics/_regression.py:691: RuntimeWarning: overflow encountered in square\n",
      "  numerator = (weight * (y_true - y_pred) ** 2).sum(axis=0,\n",
      "/home/lotte/anaconda3/lib/python3.9/site-packages/sklearn/metrics/_regression.py:691: RuntimeWarning: overflow encountered in square\n",
      "  numerator = (weight * (y_true - y_pred) ** 2).sum(axis=0,\n",
      "/home/lotte/anaconda3/lib/python3.9/site-packages/sklearn/metrics/_regression.py:691: RuntimeWarning: overflow encountered in square\n",
      "  numerator = (weight * (y_true - y_pred) ** 2).sum(axis=0,\n",
      "/home/lotte/anaconda3/lib/python3.9/site-packages/sklearn/metrics/_regression.py:691: RuntimeWarning: overflow encountered in square\n",
      "  numerator = (weight * (y_true - y_pred) ** 2).sum(axis=0,\n",
      "/home/lotte/anaconda3/lib/python3.9/site-packages/sklearn/metrics/_regression.py:691: RuntimeWarning: overflow encountered in square\n",
      "  numerator = (weight * (y_true - y_pred) ** 2).sum(axis=0,\n",
      "/home/lotte/anaconda3/lib/python3.9/site-packages/sklearn/metrics/_regression.py:691: RuntimeWarning: overflow encountered in square\n",
      "  numerator = (weight * (y_true - y_pred) ** 2).sum(axis=0,\n",
      "/home/lotte/anaconda3/lib/python3.9/site-packages/sklearn/metrics/_regression.py:691: RuntimeWarning: overflow encountered in square\n",
      "  numerator = (weight * (y_true - y_pred) ** 2).sum(axis=0,\n",
      "/home/lotte/anaconda3/lib/python3.9/site-packages/sklearn/metrics/_regression.py:691: RuntimeWarning: overflow encountered in square\n",
      "  numerator = (weight * (y_true - y_pred) ** 2).sum(axis=0,\n",
      "/home/lotte/anaconda3/lib/python3.9/site-packages/sklearn/metrics/_regression.py:691: RuntimeWarning: overflow encountered in square\n",
      "  numerator = (weight * (y_true - y_pred) ** 2).sum(axis=0,\n",
      "/home/lotte/anaconda3/lib/python3.9/site-packages/sklearn/metrics/_regression.py:691: RuntimeWarning: overflow encountered in square\n",
      "  numerator = (weight * (y_true - y_pred) ** 2).sum(axis=0,\n",
      "/home/lotte/anaconda3/lib/python3.9/site-packages/sklearn/metrics/_regression.py:691: RuntimeWarning: overflow encountered in square\n",
      "  numerator = (weight * (y_true - y_pred) ** 2).sum(axis=0,\n",
      "/home/lotte/anaconda3/lib/python3.9/site-packages/sklearn/metrics/_regression.py:691: RuntimeWarning: overflow encountered in square\n",
      "  numerator = (weight * (y_true - y_pred) ** 2).sum(axis=0,\n"
     ]
    },
    {
     "name": "stderr",
     "output_type": "stream",
     "text": [
      "/home/lotte/anaconda3/lib/python3.9/site-packages/sklearn/metrics/_regression.py:691: RuntimeWarning: overflow encountered in square\n",
      "  numerator = (weight * (y_true - y_pred) ** 2).sum(axis=0,\n",
      "/home/lotte/anaconda3/lib/python3.9/site-packages/sklearn/metrics/_regression.py:691: RuntimeWarning: overflow encountered in square\n",
      "  numerator = (weight * (y_true - y_pred) ** 2).sum(axis=0,\n",
      "/home/lotte/anaconda3/lib/python3.9/site-packages/sklearn/metrics/_regression.py:691: RuntimeWarning: overflow encountered in square\n",
      "  numerator = (weight * (y_true - y_pred) ** 2).sum(axis=0,\n",
      "/home/lotte/anaconda3/lib/python3.9/site-packages/sklearn/metrics/_regression.py:691: RuntimeWarning: overflow encountered in square\n",
      "  numerator = (weight * (y_true - y_pred) ** 2).sum(axis=0,\n",
      "/home/lotte/anaconda3/lib/python3.9/site-packages/sklearn/metrics/_regression.py:691: RuntimeWarning: overflow encountered in square\n",
      "  numerator = (weight * (y_true - y_pred) ** 2).sum(axis=0,\n",
      "/home/lotte/anaconda3/lib/python3.9/site-packages/sklearn/metrics/_regression.py:691: RuntimeWarning: overflow encountered in square\n",
      "  numerator = (weight * (y_true - y_pred) ** 2).sum(axis=0,\n",
      "/home/lotte/anaconda3/lib/python3.9/site-packages/sklearn/metrics/_regression.py:691: RuntimeWarning: overflow encountered in square\n",
      "  numerator = (weight * (y_true - y_pred) ** 2).sum(axis=0,\n",
      "/home/lotte/anaconda3/lib/python3.9/site-packages/sklearn/metrics/_regression.py:691: RuntimeWarning: overflow encountered in square\n",
      "  numerator = (weight * (y_true - y_pred) ** 2).sum(axis=0,\n",
      "/home/lotte/anaconda3/lib/python3.9/site-packages/sklearn/metrics/_regression.py:691: RuntimeWarning: overflow encountered in square\n",
      "  numerator = (weight * (y_true - y_pred) ** 2).sum(axis=0,\n",
      "/home/lotte/anaconda3/lib/python3.9/site-packages/sklearn/metrics/_regression.py:691: RuntimeWarning: overflow encountered in square\n",
      "  numerator = (weight * (y_true - y_pred) ** 2).sum(axis=0,\n",
      "/home/lotte/anaconda3/lib/python3.9/site-packages/sklearn/metrics/_regression.py:691: RuntimeWarning: overflow encountered in square\n",
      "  numerator = (weight * (y_true - y_pred) ** 2).sum(axis=0,\n",
      "/home/lotte/anaconda3/lib/python3.9/site-packages/sklearn/metrics/_regression.py:691: RuntimeWarning: overflow encountered in square\n",
      "  numerator = (weight * (y_true - y_pred) ** 2).sum(axis=0,\n",
      "/home/lotte/anaconda3/lib/python3.9/site-packages/sklearn/metrics/_regression.py:691: RuntimeWarning: overflow encountered in square\n",
      "  numerator = (weight * (y_true - y_pred) ** 2).sum(axis=0,\n",
      "/home/lotte/anaconda3/lib/python3.9/site-packages/sklearn/metrics/_regression.py:691: RuntimeWarning: overflow encountered in square\n",
      "  numerator = (weight * (y_true - y_pred) ** 2).sum(axis=0,\n",
      "/home/lotte/anaconda3/lib/python3.9/site-packages/sklearn/metrics/_regression.py:691: RuntimeWarning: overflow encountered in square\n",
      "  numerator = (weight * (y_true - y_pred) ** 2).sum(axis=0,\n",
      "/home/lotte/anaconda3/lib/python3.9/site-packages/sklearn/metrics/_regression.py:691: RuntimeWarning: overflow encountered in square\n",
      "  numerator = (weight * (y_true - y_pred) ** 2).sum(axis=0,\n",
      "/home/lotte/anaconda3/lib/python3.9/site-packages/sklearn/metrics/_regression.py:691: RuntimeWarning: overflow encountered in square\n",
      "  numerator = (weight * (y_true - y_pred) ** 2).sum(axis=0,\n",
      "/home/lotte/anaconda3/lib/python3.9/site-packages/sklearn/metrics/_regression.py:691: RuntimeWarning: overflow encountered in square\n",
      "  numerator = (weight * (y_true - y_pred) ** 2).sum(axis=0,\n",
      "/home/lotte/anaconda3/lib/python3.9/site-packages/sklearn/metrics/_regression.py:691: RuntimeWarning: overflow encountered in square\n",
      "  numerator = (weight * (y_true - y_pred) ** 2).sum(axis=0,\n",
      "/home/lotte/anaconda3/lib/python3.9/site-packages/sklearn/metrics/_regression.py:691: RuntimeWarning: overflow encountered in square\n",
      "  numerator = (weight * (y_true - y_pred) ** 2).sum(axis=0,\n",
      "/home/lotte/anaconda3/lib/python3.9/site-packages/sklearn/metrics/_regression.py:691: RuntimeWarning: overflow encountered in square\n",
      "  numerator = (weight * (y_true - y_pred) ** 2).sum(axis=0,\n",
      "/home/lotte/anaconda3/lib/python3.9/site-packages/sklearn/metrics/_regression.py:691: RuntimeWarning: overflow encountered in square\n",
      "  numerator = (weight * (y_true - y_pred) ** 2).sum(axis=0,\n",
      "/home/lotte/anaconda3/lib/python3.9/site-packages/sklearn/metrics/_regression.py:691: RuntimeWarning: overflow encountered in square\n",
      "  numerator = (weight * (y_true - y_pred) ** 2).sum(axis=0,\n",
      "/home/lotte/anaconda3/lib/python3.9/site-packages/sklearn/metrics/_regression.py:691: RuntimeWarning: overflow encountered in square\n",
      "  numerator = (weight * (y_true - y_pred) ** 2).sum(axis=0,\n",
      "/home/lotte/anaconda3/lib/python3.9/site-packages/sklearn/metrics/_regression.py:691: RuntimeWarning: overflow encountered in square\n",
      "  numerator = (weight * (y_true - y_pred) ** 2).sum(axis=0,\n",
      "/home/lotte/anaconda3/lib/python3.9/site-packages/sklearn/metrics/_regression.py:691: RuntimeWarning: overflow encountered in square\n",
      "  numerator = (weight * (y_true - y_pred) ** 2).sum(axis=0,\n",
      "/home/lotte/anaconda3/lib/python3.9/site-packages/sklearn/metrics/_regression.py:691: RuntimeWarning: overflow encountered in square\n",
      "  numerator = (weight * (y_true - y_pred) ** 2).sum(axis=0,\n",
      "/home/lotte/anaconda3/lib/python3.9/site-packages/sklearn/metrics/_regression.py:691: RuntimeWarning: overflow encountered in square\n",
      "  numerator = (weight * (y_true - y_pred) ** 2).sum(axis=0,\n",
      "/home/lotte/anaconda3/lib/python3.9/site-packages/sklearn/metrics/_regression.py:691: RuntimeWarning: overflow encountered in square\n",
      "  numerator = (weight * (y_true - y_pred) ** 2).sum(axis=0,\n",
      "/home/lotte/anaconda3/lib/python3.9/site-packages/sklearn/metrics/_regression.py:691: RuntimeWarning: overflow encountered in square\n",
      "  numerator = (weight * (y_true - y_pred) ** 2).sum(axis=0,\n",
      "/home/lotte/anaconda3/lib/python3.9/site-packages/sklearn/metrics/_regression.py:691: RuntimeWarning: overflow encountered in square\n",
      "  numerator = (weight * (y_true - y_pred) ** 2).sum(axis=0,\n",
      "/home/lotte/anaconda3/lib/python3.9/site-packages/sklearn/metrics/_regression.py:691: RuntimeWarning: overflow encountered in square\n",
      "  numerator = (weight * (y_true - y_pred) ** 2).sum(axis=0,\n",
      "/home/lotte/anaconda3/lib/python3.9/site-packages/sklearn/metrics/_regression.py:691: RuntimeWarning: overflow encountered in square\n",
      "  numerator = (weight * (y_true - y_pred) ** 2).sum(axis=0,\n",
      "/home/lotte/anaconda3/lib/python3.9/site-packages/sklearn/metrics/_regression.py:691: RuntimeWarning: overflow encountered in square\n",
      "  numerator = (weight * (y_true - y_pred) ** 2).sum(axis=0,\n",
      "/home/lotte/anaconda3/lib/python3.9/site-packages/sklearn/metrics/_regression.py:691: RuntimeWarning: overflow encountered in square\n",
      "  numerator = (weight * (y_true - y_pred) ** 2).sum(axis=0,\n",
      "/home/lotte/anaconda3/lib/python3.9/site-packages/sklearn/metrics/_regression.py:691: RuntimeWarning: overflow encountered in square\n",
      "  numerator = (weight * (y_true - y_pred) ** 2).sum(axis=0,\n",
      "/home/lotte/anaconda3/lib/python3.9/site-packages/sklearn/metrics/_regression.py:691: RuntimeWarning: overflow encountered in square\n",
      "  numerator = (weight * (y_true - y_pred) ** 2).sum(axis=0,\n",
      "/home/lotte/anaconda3/lib/python3.9/site-packages/sklearn/metrics/_regression.py:691: RuntimeWarning: overflow encountered in square\n",
      "  numerator = (weight * (y_true - y_pred) ** 2).sum(axis=0,\n",
      "/home/lotte/anaconda3/lib/python3.9/site-packages/sklearn/metrics/_regression.py:691: RuntimeWarning: overflow encountered in square\n",
      "  numerator = (weight * (y_true - y_pred) ** 2).sum(axis=0,\n",
      "/home/lotte/anaconda3/lib/python3.9/site-packages/sklearn/metrics/_regression.py:691: RuntimeWarning: overflow encountered in square\n",
      "  numerator = (weight * (y_true - y_pred) ** 2).sum(axis=0,\n",
      "/home/lotte/anaconda3/lib/python3.9/site-packages/sklearn/metrics/_regression.py:691: RuntimeWarning: overflow encountered in square\n",
      "  numerator = (weight * (y_true - y_pred) ** 2).sum(axis=0,\n",
      "/home/lotte/anaconda3/lib/python3.9/site-packages/sklearn/metrics/_regression.py:691: RuntimeWarning: overflow encountered in square\n",
      "  numerator = (weight * (y_true - y_pred) ** 2).sum(axis=0,\n",
      "/home/lotte/anaconda3/lib/python3.9/site-packages/sklearn/metrics/_regression.py:691: RuntimeWarning: overflow encountered in square\n",
      "  numerator = (weight * (y_true - y_pred) ** 2).sum(axis=0,\n"
     ]
    },
    {
     "name": "stderr",
     "output_type": "stream",
     "text": [
      "/home/lotte/anaconda3/lib/python3.9/site-packages/sklearn/metrics/_regression.py:691: RuntimeWarning: overflow encountered in square\n",
      "  numerator = (weight * (y_true - y_pred) ** 2).sum(axis=0,\n"
     ]
    },
    {
     "data": {
      "text/plain": [
       "AutoSklearnRegressor(ensemble_class=<class 'autosklearn.ensembles.ensemble_selection.EnsembleSelection'>,\n",
       "                     per_run_time_limit=360)"
      ]
     },
     "execution_count": 8,
     "metadata": {},
     "output_type": "execute_result"
    }
   ],
   "source": [
    "cls.fit(X_train, y_train)"
   ]
  },
  {
   "cell_type": "code",
   "execution_count": 6,
   "metadata": {},
   "outputs": [
    {
     "name": "stdout",
     "output_type": "stream",
     "text": [
      "auto-sklearn results:\n",
      "  Dataset name: 3d76995d-f882-11ed-803d-73c0960bd329\n",
      "  Metric: r2\n",
      "  Best validation score: 0.879672\n",
      "  Number of target algorithm runs: 404\n",
      "  Number of successful target algorithm runs: 345\n",
      "  Number of crashed target algorithm runs: 27\n",
      "  Number of target algorithms that exceeded the time limit: 5\n",
      "  Number of target algorithms that exceeded the memory limit: 27\n",
      "\n"
     ]
    }
   ],
   "source": [
    "# Printing model statistics\n",
    "print(cls.sprint_statistics())"
   ]
  },
  {
   "cell_type": "code",
   "execution_count": 7,
   "metadata": {},
   "outputs": [
    {
     "name": "stdout",
     "output_type": "stream",
     "text": [
      "          rank  ensemble_weight               type      cost   duration\n",
      "model_id                                                               \n",
      "323          1             0.46           adaboost  0.120328   1.463644\n",
      "390          2             0.08           adaboost  0.127450   2.535718\n",
      "288          3             0.02  gradient_boosting  0.145677   4.687480\n",
      "3            4             0.20   gaussian_process  0.148936  87.383634\n",
      "322          5             0.08  gradient_boosting  0.151706   2.946948\n",
      "22           6             0.08        extra_trees  0.152030   0.711942\n",
      "34           7             0.02           adaboost  0.222828   0.541692\n",
      "358          8             0.06  gradient_boosting  0.234518  10.267207\n"
     ]
    }
   ],
   "source": [
    "# Printing leaderboard for sklearn\n",
    "print(cls.leaderboard())"
   ]
  },
  {
   "cell_type": "code",
   "execution_count": 12,
   "metadata": {},
   "outputs": [
    {
     "name": "stdout",
     "output_type": "stream",
     "text": [
      "0.4600000000000001\n",
      "SimpleRegressionPipeline({'data_preprocessor:__choice__': 'feature_type', 'feature_preprocessor:__choice__': 'select_rates_regression', 'regressor:__choice__': 'adaboost', 'data_preprocessor:feature_type:numerical_transformer:imputation:strategy': 'mean', 'data_preprocessor:feature_type:numerical_transformer:rescaling:__choice__': 'robust_scaler', 'feature_preprocessor:select_rates_regression:alpha': 0.1413849624569439, 'feature_preprocessor:select_rates_regression:mode': 'fdr', 'feature_preprocessor:select_rates_regression:score_func': 'f_regression', 'regressor:adaboost:learning_rate': 0.45878747180018775, 'regressor:adaboost:loss': 'exponential', 'regressor:adaboost:max_depth': 4, 'regressor:adaboost:n_estimators': 127, 'data_preprocessor:feature_type:numerical_transformer:rescaling:robust_scaler:q_max': 0.7630363359920633, 'data_preprocessor:feature_type:numerical_transformer:rescaling:robust_scaler:q_min': 0.266195295468012},\n",
      "dataset_properties={\n",
      "  'task': 4,\n",
      "  'sparse': False,\n",
      "  'multioutput': False,\n",
      "  'target_type': 'regression',\n",
      "  'signed': False})\n"
     ]
    }
   ],
   "source": [
    "# get the best model and its weight\n",
    "models = cls.get_models_with_weights()\n",
    "best_model, best_weight  = models[0]\n",
    "\n",
    "# get information about the best model\n",
    "print(best_model)\n",
    "print(best_weight)\n"
   ]
  },
  {
   "cell_type": "markdown",
   "metadata": {},
   "source": [
    "# Test set\n",
    "\n"
   ]
  },
  {
   "cell_type": "code",
   "execution_count": 8,
   "metadata": {},
   "outputs": [
    {
     "name": "stdout",
     "output_type": "stream",
     "text": [
      "x.shape:  (16, 100, 10)\n"
     ]
    }
   ],
   "source": [
    "df_test = pd.read_csv(file_path + 'test_behaviour_data.csv')\n",
    "X_test, y_test = get_x_y_data(df_test)"
   ]
  },
  {
   "cell_type": "code",
   "execution_count": 9,
   "metadata": {},
   "outputs": [],
   "source": [
    "predictions = cls.predict(X_test)"
   ]
  },
  {
   "cell_type": "code",
   "execution_count": 10,
   "metadata": {},
   "outputs": [
    {
     "name": "stdout",
     "output_type": "stream",
     "text": [
      "pred [ 1.82325293 11.87722589  8.33020641  5.72554949  5.33570413  6.17134374\n",
      " 20.02231377  6.22134151  4.87926462  8.85503313 14.74150246  6.5399363\n",
      " 67.40085077  4.28383385 62.38706779 65.96065044]\n",
      "test [ 0.   0.   3.5  8.   9.5  5.8  3.5  7.2  7.2 14.4 32.  32.  67.7 67.7\n",
      " 66.4 66.4]\n"
     ]
    }
   ],
   "source": [
    "print('pred', predictions)\n",
    "print('test', y_test)"
   ]
  },
  {
   "cell_type": "markdown",
   "metadata": {},
   "source": [
    "## Accuracy measurements "
   ]
  },
  {
   "cell_type": "code",
   "execution_count": 11,
   "metadata": {},
   "outputs": [
    {
     "name": "stdout",
     "output_type": "stream",
     "text": [
      "R2 Score          :  0.5007809541027388\n",
      "RMSE              :  18.51438624763286\n",
      "Mean_abs_error    :  10.099600515469502\n",
      "svm_regressor1_/5min_25ss_100bins.sav\n"
     ]
    }
   ],
   "source": [
    "r2_score = r2_score(y_test, predictions)\n",
    "MAE = mean_absolute_error(y_test, predictions)\n",
    "RMSE = mean_squared_error(y_test, predictions, squared=False)\n",
    "\n",
    "print(\"R2 Score          : \", r2_score)\n",
    "print(\"Mean_abs_error    : \", MAE)\n",
    "print(\"RMSE              : \", RMSE)"
   ]
  },
  {
   "cell_type": "markdown",
   "metadata": {},
   "source": [
    "## Confusion matrix\n"
   ]
  },
  {
   "cell_type": "code",
   "execution_count": 9,
   "metadata": {},
   "outputs": [
    {
     "ename": "NameError",
     "evalue": "name 'y_test' is not defined",
     "output_type": "error",
     "traceback": [
      "\u001b[0;31m---------------------------------------------------------------------------\u001b[0m",
      "\u001b[0;31mNameError\u001b[0m                                 Traceback (most recent call last)",
      "\u001b[0;32m/tmp/ipykernel_13542/667315051.py\u001b[0m in \u001b[0;36m<module>\u001b[0;34m\u001b[0m\n\u001b[1;32m      1\u001b[0m \u001b[0;31m# assuming y_test and y_pred are numpy arrays containing the true and predicted values, respectively\u001b[0m\u001b[0;34m\u001b[0m\u001b[0;34m\u001b[0m\u001b[0m\n\u001b[1;32m      2\u001b[0m \u001b[0mfig\u001b[0m \u001b[0;34m=\u001b[0m \u001b[0mplt\u001b[0m\u001b[0;34m.\u001b[0m\u001b[0mfigure\u001b[0m\u001b[0;34m(\u001b[0m\u001b[0mfigsize\u001b[0m\u001b[0;34m=\u001b[0m \u001b[0;34m(\u001b[0m\u001b[0;36m9\u001b[0m\u001b[0;34m,\u001b[0m\u001b[0;36m9\u001b[0m\u001b[0;34m)\u001b[0m\u001b[0;34m)\u001b[0m\u001b[0;34m\u001b[0m\u001b[0;34m\u001b[0m\u001b[0m\n\u001b[0;32m----> 3\u001b[0;31m \u001b[0msns\u001b[0m\u001b[0;34m.\u001b[0m\u001b[0mregplot\u001b[0m\u001b[0;34m(\u001b[0m\u001b[0mx\u001b[0m\u001b[0;34m=\u001b[0m\u001b[0my_test\u001b[0m\u001b[0;34m,\u001b[0m \u001b[0my\u001b[0m\u001b[0;34m=\u001b[0m\u001b[0mpredictions\u001b[0m\u001b[0;34m)\u001b[0m\u001b[0;34m\u001b[0m\u001b[0;34m\u001b[0m\u001b[0m\n\u001b[0m\u001b[1;32m      4\u001b[0m \u001b[0mplt\u001b[0m\u001b[0;34m.\u001b[0m\u001b[0mxlabel\u001b[0m\u001b[0;34m(\u001b[0m\u001b[0;34m'True $H_2S$ ($\\mu g/L$)'\u001b[0m\u001b[0;34m,\u001b[0m \u001b[0mfontsize\u001b[0m\u001b[0;34m=\u001b[0m\u001b[0;36m18\u001b[0m\u001b[0;34m)\u001b[0m\u001b[0;34m\u001b[0m\u001b[0;34m\u001b[0m\u001b[0m\n\u001b[1;32m      5\u001b[0m \u001b[0mplt\u001b[0m\u001b[0;34m.\u001b[0m\u001b[0mylabel\u001b[0m\u001b[0;34m(\u001b[0m\u001b[0;34m'Predicted $H_2S$ ($\\mu g/L$)'\u001b[0m\u001b[0;34m,\u001b[0m \u001b[0mfontsize\u001b[0m\u001b[0;34m=\u001b[0m\u001b[0;36m18\u001b[0m\u001b[0;34m)\u001b[0m\u001b[0;34m\u001b[0m\u001b[0;34m\u001b[0m\u001b[0m\n",
      "\u001b[0;31mNameError\u001b[0m: name 'y_test' is not defined"
     ]
    },
    {
     "data": {
      "text/plain": [
       "<Figure size 900x900 with 0 Axes>"
      ]
     },
     "metadata": {},
     "output_type": "display_data"
    }
   ],
   "source": [
    "# assuming y_test and y_pred are numpy arrays containing the true and predicted values, respectively\n",
    "fig = plt.figure(figsize= (9,9))\n",
    "sns.regplot(x=y_test, y=predictions)\n",
    "plt.xlabel('True $H_2S$ ($\\mu g/L$)', fontsize=18)\n",
    "plt.ylabel('Predicted $H_2S$ ($\\mu g/L$)', fontsize=18) \n",
    "plt.title('Decision tree with Auto-Sklearn regression' + '\\n$(R²='+str(round(r2_score,3))+')$', fontweight='bold', fontsize=22) \n",
    "plt.xticks(fontsize=12)\n",
    "plt.yticks(fontsize=12)\n",
    "plt.grid()\n",
    "plt.show()"
   ]
  },
  {
   "cell_type": "markdown",
   "metadata": {},
   "source": [
    "## Saving top model"
   ]
  },
  {
   "cell_type": "code",
   "execution_count": 13,
   "metadata": {},
   "outputs": [
    {
     "ename": "FileNotFoundError",
     "evalue": "[Errno 2] No such file or directory: 'svm_models/prediction/svm_regressor1_/5min_25ss_100bins.sav'",
     "output_type": "error",
     "traceback": [
      "\u001b[0;31m---------------------------------------------------------------------------\u001b[0m",
      "\u001b[0;31mFileNotFoundError\u001b[0m                         Traceback (most recent call last)",
      "\u001b[0;32m/tmp/ipykernel_770109/3523967567.py\u001b[0m in \u001b[0;36m<module>\u001b[0;34m\u001b[0m\n\u001b[1;32m      2\u001b[0m \u001b[0;34m\u001b[0m\u001b[0m\n\u001b[1;32m      3\u001b[0m \u001b[0;34m\u001b[0m\u001b[0m\n\u001b[0;32m----> 4\u001b[0;31m \u001b[0mpickle\u001b[0m\u001b[0;34m.\u001b[0m\u001b[0mdump\u001b[0m\u001b[0;34m(\u001b[0m\u001b[0mcls\u001b[0m\u001b[0;34m,\u001b[0m \u001b[0mopen\u001b[0m\u001b[0;34m(\u001b[0m\u001b[0msave_path\u001b[0m \u001b[0;34m+\u001b[0m \u001b[0mmodel_name\u001b[0m\u001b[0;34m,\u001b[0m \u001b[0;34m'wb'\u001b[0m\u001b[0;34m)\u001b[0m\u001b[0;34m)\u001b[0m\u001b[0;34m\u001b[0m\u001b[0;34m\u001b[0m\u001b[0m\n\u001b[0m",
      "\u001b[0;31mFileNotFoundError\u001b[0m: [Errno 2] No such file or directory: 'svm_models/prediction/svm_regressor1_/5min_25ss_100bins.sav'"
     ]
    }
   ],
   "source": [
    "# save the model \n",
    "pickle.dump(cls, open(save_path + model_name, 'wb'))"
   ]
  },
  {
   "cell_type": "markdown",
   "metadata": {},
   "source": [
    "# Load model"
   ]
  },
  {
   "cell_type": "code",
   "execution_count": null,
   "metadata": {},
   "outputs": [],
   "source": [
    "#load the model\n",
    "\n",
    "#path = save_path + model_name\n",
    "loaded_model = pickle.load(open(path, 'rb'))"
   ]
  },
  {
   "cell_type": "code",
   "execution_count": null,
   "metadata": {},
   "outputs": [],
   "source": [
    "print(loaded_model.leaderboard())\n",
    "\n",
    "# get the best model and its weight\n",
    "models = loaded_model.get_models_with_weights()\n",
    "best_model, best_weight  = models[0]\n",
    "\n",
    "# get information about the best model\n",
    "print(best_model)\n",
    "print(best_weight)"
   ]
  }
 ],
 "metadata": {
  "kernelspec": {
   "display_name": "Python 3 (ipykernel)",
   "language": "python",
   "name": "python3"
  },
  "language_info": {
   "codemirror_mode": {
    "name": "ipython",
    "version": 3
   },
   "file_extension": ".py",
   "mimetype": "text/x-python",
   "name": "python",
   "nbconvert_exporter": "python",
   "pygments_lexer": "ipython3",
   "version": "3.9.13"
  },
  "vscode": {
   "interpreter": {
    "hash": "40c0f35be6e66125e316003e0360a361a3624671e4defdd395d53c905a2a28f7"
   }
  }
 },
 "nbformat": 4,
 "nbformat_minor": 2
}
